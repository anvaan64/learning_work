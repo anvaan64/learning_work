{
  "cells": [
    {
      "cell_type": "markdown",
      "metadata": {
        "id": "view-in-github",
        "colab_type": "text"
      },
      "source": [
        "<a href=\"https://colab.research.google.com/github/anvaan64/learning_work/blob/main/DZ1.ipynb\" target=\"_parent\"><img src=\"https://colab.research.google.com/assets/colab-badge.svg\" alt=\"Open In Colab\"/></a>"
      ]
    },
    {
      "cell_type": "code",
      "execution_count": null,
      "id": "8579acc1",
      "metadata": {
        "id": "8579acc1",
        "outputId": "cdaebe9d-aa20-4849-e737-ac3c41e3fbf9",
        "colab": {
          "base_uri": "https://localhost:8080/"
        }
      },
      "outputs": [
        {
          "output_type": "stream",
          "name": "stdout",
          "text": [
            "[1,3]\n",
            "Сумма =  4\n"
          ]
        }
      ],
      "source": [
        "#на входе строка с любыми символами, на выходе сумма чисел в этой строке\n",
        "def sum_spisok (s_input):\n",
        "    spisok = []\n",
        "    dec ='0123456789'\n",
        "    sum_s = 0\n",
        "    elem = ''\n",
        "    for i in range(len(s_input)):             # извлечение чисел из входной строки \n",
        "        if s_input[i] in dec:\n",
        "            elem += s_input[i]\n",
        "        else:\n",
        "            if elem != '':\n",
        "                sum_s += int(elem)\n",
        "                elem ='' \n",
        "    return sum_s\n",
        "\n",
        "spisok = input()\n",
        "print('Сумма = ', sum_spisok(spisok))"
      ]
    },
    {
      "cell_type": "code",
      "execution_count": null,
      "id": "2d8117b7",
      "metadata": {
        "id": "2d8117b7",
        "colab": {
          "base_uri": "https://localhost:8080/"
        },
        "outputId": "b39fed15-e544-497a-8e71-62a836060287"
      },
      "outputs": [
        {
          "output_type": "stream",
          "name": "stdout",
          "text": [
            "задайте последовательность символов ( через запятую): -a,s,d,f,g,a,s,d,f,x,c,v,s,d\n",
            "задайте значение N для Топ-N : -5\n",
            "Количество уникальных элементов : 8\n",
            "Повторяющиеся элементы: a d f s \n",
            "Топ- 5 : d(3) s(3) a(2) f(2) c(1)\n"
          ]
        }
      ],
      "source": [
        "#Определение различных элементов в списке ( возвращает список, состоящий из уникальных элементов)\n",
        "def f_different(s_input):\n",
        "    s_diff =[]\n",
        "    s_diff.extend(set(s_input))\n",
        "    s_diff.sort()\n",
        "    return(s_diff)\n",
        "#Определение количества появления различных элементов в списке\n",
        "def f_dublicat(s_input):\n",
        "    s_unik = f_different(s_input)\n",
        "    s_count = [0 for _ in range(len(s_unik))]                            \n",
        "    for i in range(len(s_unik)):\n",
        "        s_count[i] = s_input.count(s_unik[i])\n",
        "    return(s_count, s_unik)\n",
        "# Определение частоты появления элемента в списке ( на выходе список Топ(ntop))  \n",
        "def f_frequency(s_input, n):\n",
        "    simb =[]\n",
        "    count, simbol = f_dublicat(s_input)\n",
        "    for i in range(len(simbol)):\n",
        "        simbol[i] *=count[i]\n",
        "    simbol.sort(key=len, reverse = True)\n",
        "    for i in range(min(n,len(simbol))):\n",
        "        simb.append(simbol[i][0]+'('+str(len(simbol[i]))+')')\n",
        "    return simb\n",
        "# необходимо ввести набор символов через запятую, затем количество позиций для вывода в Топ -ntop\n",
        "# в задании задано число 3 (Топ -3)\n",
        "spisok_in = input(\"задайте последовательность символов ( через запятую): -\").split(',')\n",
        "ntop = int(input(\"задайте значение N для Топ-N : -\"))\n",
        "different = f_different(spisok_in)\n",
        "print('Количество уникальных элементов :',len(different))\n",
        "count_unik, unik = f_dublicat(spisok_in)\n",
        "print('Повторяющиеся элементы:', end=' ')\n",
        "for i in range(len(unik)):\n",
        "    if count_unik[i] >= 2:\n",
        "        print(unik[i], end=' ')\n",
        "print()\n",
        "simb = f_frequency(spisok_in, ntop)\n",
        "print('Топ-',ntop,':', end=' ')\n",
        "print(*simb)                \n"
      ]
    },
    {
      "cell_type": "code",
      "execution_count": null,
      "id": "2070eb52",
      "metadata": {
        "id": "2070eb52",
        "outputId": "ac37e263-adcb-450c-b808-d9a626339b36"
      },
      "outputs": [
        {
          "name": "stdout",
          "output_type": "stream",
          "text": [
            "   *   \n",
            "  ***  \n",
            " ***** \n",
            "*******\n",
            "   *   \n",
            "   *   \n"
          ]
        }
      ],
      "source": [
        "# Без ввода данных, исходная матрица задана в теле программы\n",
        "def n_star(picture):\n",
        "    for i in range(len(picture)):\n",
        "        for j in range(len(picture[i])):\n",
        "            if picture[i][j] == 0:\n",
        "                print(' ', end='')\n",
        "            elif picture[i][j] == 1:\n",
        "                print('*', end='')\n",
        "        print()\n",
        "    \n",
        "matrix = [[0,0,0,1,0,0,0],\n",
        "[0,0,1,1,1,0,0],\n",
        "[0,1,1,1,1,1,0],\n",
        "[1,1,1,1,1,1,1],\n",
        "[0,0,0,1,0,0,0],\n",
        "[0,0,0,1,0,0,0]\n",
        "]\n",
        "\n",
        "n_star(matrix)\n"
      ]
    },
    {
      "cell_type": "code",
      "execution_count": null,
      "id": "ffbc6fbb",
      "metadata": {
        "id": "ffbc6fbb"
      },
      "outputs": [],
      "source": [
        ""
      ]
    },
    {
      "cell_type": "code",
      "execution_count": null,
      "id": "13215054",
      "metadata": {
        "id": "13215054"
      },
      "outputs": [],
      "source": [
        ""
      ]
    }
  ],
  "metadata": {
    "kernelspec": {
      "display_name": "Python 3 (ipykernel)",
      "language": "python",
      "name": "python3"
    },
    "language_info": {
      "codemirror_mode": {
        "name": "ipython",
        "version": 3
      },
      "file_extension": ".py",
      "mimetype": "text/x-python",
      "name": "python",
      "nbconvert_exporter": "python",
      "pygments_lexer": "ipython3",
      "version": "3.9.7"
    },
    "colab": {
      "name": "DZ1.ipynb",
      "provenance": [],
      "include_colab_link": true
    }
  },
  "nbformat": 4,
  "nbformat_minor": 5
}