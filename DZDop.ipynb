{
 "cells": [
  {
   "cell_type": "code",
   "execution_count": 1,
   "id": "628ef672",
   "metadata": {},
   "outputs": [
    {
     "name": "stdout",
     "output_type": "stream",
     "text": [
      "2002, 2002, 2009, 2016, 2023, 2037, 2044, 2051, 2058, 2072, 2079, 2086, 2093, 2107, 2114, 2121, 2128, 2142, 2149, 2156, 2163, 2177, 2184, 2191, 2198, 2212, 2219, 2226, 2233, 2247, 2254, 2261, 2268, 2282, 2289, 2296, 2303, 2317, 2324, 2331, 2338, 2352, 2359, 2366, 2373, 2387, 2394, 2401, 2408, 2422, 2429, 2436, 2443, 2457, 2464, 2471, 2478, 2492, 2499, 2506, 2513, 2527, 2534, 2541, 2548, 2562, 2569, 2576, 2583, 2597, 2604, 2611, 2618, 2632, 2639, 2646, 2653, 2667, 2674, 2681, 2688, 2702, 2709, 2716, 2723, 2737, 2744, 2751, 2758, 2772, 2779, 2786, 2793, 2807, 2814, 2821, 2828, 2842, 2849, 2856, 2863, 2877, 2884, 2891, 2898, 2912, 2919, 2926, 2933, 2947, 2954, 2961, 2968, 2982, 2989, 2996, 3003, 3017, 3024, 3031, 3038, 3052, 3059, 3066, 3073, 3087, 3094, 3101, 3108, 3122, 3129, 3136, 3143, 3157, 3164, 3171, 3178, 3192, 3199"
     ]
    }
   ],
   "source": [
    "# числа, делящиеся на 7, но не на 5\n",
    "d1 = 7\n",
    "d2 = 5\n",
    "nmin = 2000\n",
    "nmax = 3200\n",
    "n1 = nmin\n",
    "while n1 % 7 != 0:\n",
    "    n1 +=1\n",
    "print(n1,end='')\n",
    "while n1 <= nmax:\n",
    "    if n1 % 5 != 0:\n",
    "        print(',',n1,end='')\n",
    "    n1 += 7\n"
   ]
  },
  {
   "cell_type": "code",
   "execution_count": 3,
   "id": "3faf5d31",
   "metadata": {},
   "outputs": [
    {
     "name": "stdout",
     "output_type": "stream",
     "text": [
      "4 5 6\n",
      "24, 120, 720"
     ]
    }
   ],
   "source": [
    "# факториалы введенных чисел\n",
    "def factorial(n):\n",
    "    nf = 1\n",
    "    for i in range(1,n+1):\n",
    "        nf *= i\n",
    "    return nf\n",
    "\n",
    "num = [int(c) for c in input().split()]\n",
    "print(factorial(num[0]), end='')\n",
    "for i in range(1,len(num)):\n",
    "    print(',',factorial(num[i]), end ='')\n",
    "    "
   ]
  },
  {
   "cell_type": "code",
   "execution_count": 6,
   "id": "36d1c0b0",
   "metadata": {},
   "outputs": [
    {
     "name": "stdout",
     "output_type": "stream",
     "text": [
      "aW3[\n",
      "формат пароля неправильный\n"
     ]
    }
   ],
   "source": [
    "# Проверка пароля\n",
    "psw = input()\n",
    "alfa = 'abcdefghijklmnopqrstuvwxyz'\n",
    "ALFA = alfa.upper()\n",
    "num = '0123456789'\n",
    "spec = '[$#@]'\n",
    "#flag = 'формат пароля неправильный'\n",
    "count = 0\n",
    "if 6 <= len(psw) and len(psw) <= 12: \n",
    "    for c in num:\n",
    "        if c in psw:\n",
    "            count += 1\n",
    "            break\n",
    "    if count == 1:\n",
    "#        count = 0\n",
    "        for c in alfa:\n",
    "            if c in psw:\n",
    "                count += 1\n",
    "                break\n",
    "        if count == 2:\n",
    "#            count = 0\n",
    "            for c in ALFA:\n",
    "                if c in psw:\n",
    "                    count += 1\n",
    "                    break\n",
    "            if count == 3:\n",
    "#               count =0\n",
    "                for c in spec:\n",
    "                    if c in psw:\n",
    "                        count +=1\n",
    "                        break\n",
    "        \n",
    "flag = 'формат пароля правильный' if count == 4 else 'формат пароля неправильный'\n",
    "print(flag)\n",
    "          "
   ]
  },
  {
   "cell_type": "code",
   "execution_count": 7,
   "id": "61107de9",
   "metadata": {},
   "outputs": [
    {
     "name": "stdout",
     "output_type": "stream",
     "text": [
      "3\n",
      "5\n",
      "[0, 0, 0, 0, 0]\n",
      "[0, 1, 2, 3, 4]\n",
      "[0, 2, 4, 6, 8]\n",
      "\n",
      "0 0 0 0 0\n",
      "0 1 2 3 4\n",
      "0 2 4 6 8\n"
     ]
    }
   ],
   "source": [
    "# Матрица из произведений индексов\n",
    "n = int(input())\n",
    "m = int(input())\n",
    "matrix = [[0]*m for _ in range(n)]\n",
    "for i in range(n):\n",
    "    for j in range(m):\n",
    "        matrix[i][j] = i*j\n",
    "for i in range(n):\n",
    "    print(matrix[i])\n",
    "print()\n",
    "for i in range(n):\n",
    "    print(*matrix[i])"
   ]
  },
  {
   "cell_type": "code",
   "execution_count": null,
   "id": "b6fd87f5",
   "metadata": {},
   "outputs": [],
   "source": []
  }
 ],
 "metadata": {
  "kernelspec": {
   "display_name": "Python 3 (ipykernel)",
   "language": "python",
   "name": "python3"
  },
  "language_info": {
   "codemirror_mode": {
    "name": "ipython",
    "version": 3
   },
   "file_extension": ".py",
   "mimetype": "text/x-python",
   "name": "python",
   "nbconvert_exporter": "python",
   "pygments_lexer": "ipython3",
   "version": "3.9.7"
  }
 },
 "nbformat": 4,
 "nbformat_minor": 5
}
